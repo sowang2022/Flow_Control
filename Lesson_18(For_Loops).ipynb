{
  "nbformat": 4,
  "nbformat_minor": 0,
  "metadata": {
    "colab": {
      "name": "Lesson_18(For Loops).ipynb",
      "provenance": [],
      "authorship_tag": "ABX9TyOGgnTFGkDa91DukGraB1zz",
      "include_colab_link": true
    },
    "kernelspec": {
      "name": "python3",
      "display_name": "Python 3"
    },
    "language_info": {
      "name": "python"
    }
  },
  "cells": [
    {
      "cell_type": "markdown",
      "metadata": {
        "id": "view-in-github",
        "colab_type": "text"
      },
      "source": [
        "<a href=\"https://colab.research.google.com/github/sowang2022/Flow_Control/blob/main/Lesson_18(For_Loops).ipynb\" target=\"_parent\"><img src=\"https://colab.research.google.com/assets/colab-badge.svg\" alt=\"Open In Colab\"/></a>"
      ]
    },
    {
      "cell_type": "code",
      "execution_count": null,
      "metadata": {
        "colab": {
          "base_uri": "https://localhost:8080/"
        },
        "id": "qKXVhBii3YPf",
        "outputId": "da43c4f0-6ba1-4d5c-eaeb-4ac16c6d6fee"
      },
      "outputs": [
        {
          "output_type": "stream",
          "name": "stdout",
          "text": [
            "0\n",
            "1\n",
            "2\n",
            "3\n",
            "4\n",
            "5\n"
          ]
        }
      ],
      "source": [
        "for i in range(0,6):\n",
        "  print(i)"
      ]
    },
    {
      "cell_type": "code",
      "source": [
        "for j in range(4,10):\n",
        "  print(j,j**2)"
      ],
      "metadata": {
        "colab": {
          "base_uri": "https://localhost:8080/"
        },
        "id": "OUsbC8jZ5kgn",
        "outputId": "fcf49755-ecf2-4c0f-83e9-56fcc36f3836"
      },
      "execution_count": null,
      "outputs": [
        {
          "output_type": "stream",
          "name": "stdout",
          "text": [
            "4 16\n",
            "5 25\n",
            "6 36\n",
            "7 49\n",
            "8 64\n",
            "9 81\n"
          ]
        }
      ]
    },
    {
      "cell_type": "code",
      "source": [
        "import numpy as np\n",
        "\n",
        "numbers = np.linspace(3,17,22)\n",
        "numbers\n",
        "\n",
        "for i in range (len(numbers)):\n",
        "  x = numbers[i]\n",
        "  print('Ineration ' + str(i+1) + ' has a numbers value of ' + str(x))"
      ],
      "metadata": {
        "colab": {
          "base_uri": "https://localhost:8080/"
        },
        "id": "TYypmuVy5tFp",
        "outputId": "775747e0-efc7-405d-ef64-e8ae695fabe5"
      },
      "execution_count": null,
      "outputs": [
        {
          "output_type": "stream",
          "name": "stdout",
          "text": [
            "Ineration 1 has a numbers value of 3.0\n",
            "Ineration 2 has a numbers value of 3.6666666666666665\n",
            "Ineration 3 has a numbers value of 4.333333333333333\n",
            "Ineration 4 has a numbers value of 5.0\n",
            "Ineration 5 has a numbers value of 5.666666666666666\n",
            "Ineration 6 has a numbers value of 6.333333333333333\n",
            "Ineration 7 has a numbers value of 7.0\n",
            "Ineration 8 has a numbers value of 7.666666666666666\n",
            "Ineration 9 has a numbers value of 8.333333333333332\n",
            "Ineration 10 has a numbers value of 9.0\n",
            "Ineration 11 has a numbers value of 9.666666666666666\n",
            "Ineration 12 has a numbers value of 10.333333333333332\n",
            "Ineration 13 has a numbers value of 11.0\n",
            "Ineration 14 has a numbers value of 11.666666666666666\n",
            "Ineration 15 has a numbers value of 12.333333333333332\n",
            "Ineration 16 has a numbers value of 13.0\n",
            "Ineration 17 has a numbers value of 13.666666666666666\n",
            "Ineration 18 has a numbers value of 14.333333333333332\n",
            "Ineration 19 has a numbers value of 15.0\n",
            "Ineration 20 has a numbers value of 15.666666666666666\n",
            "Ineration 21 has a numbers value of 16.333333333333332\n",
            "Ineration 22 has a numbers value of 17.0\n"
          ]
        }
      ]
    },
    {
      "cell_type": "code",
      "source": [
        "# soft coding vs hard coding\n",
        "#Soft coding\n",
        "nIderations = 102\n",
        "for i in range(nIderations):\n",
        "  pass\n",
        "\n",
        "#100s of lines code.....\n",
        "#hard coding\n",
        "for i in range (102):\n",
        "  pass"
      ],
      "metadata": {
        "id": "wlpW1loU6aw9"
      },
      "execution_count": null,
      "outputs": []
    },
    {
      "cell_type": "code",
      "source": [
        "#modulus\n",
        "for n in range(18):\n",
        "  if n%2==0:\n",
        "    print(str(n) + ' is an even number')\n",
        "  else:\n",
        "    print(str(n) + ' is an odd number') "
      ],
      "metadata": {
        "colab": {
          "base_uri": "https://localhost:8080/"
        },
        "id": "X6l-SNZZ9smQ",
        "outputId": "e1337a42-56c6-4c31-9427-d6c9d6feefb7"
      },
      "execution_count": null,
      "outputs": [
        {
          "output_type": "stream",
          "name": "stdout",
          "text": [
            "0 is an even number\n",
            "1 is an odd number\n",
            "2 is an even number\n",
            "3 is an odd number\n",
            "4 is an even number\n",
            "5 is an odd number\n",
            "6 is an even number\n",
            "7 is an odd number\n",
            "8 is an even number\n",
            "9 is an odd number\n",
            "10 is an even number\n",
            "11 is an odd number\n",
            "12 is an even number\n",
            "13 is an odd number\n",
            "14 is an even number\n",
            "15 is an odd number\n",
            "16 is an even number\n",
            "17 is an odd number\n"
          ]
        }
      ]
    },
    {
      "cell_type": "code",
      "source": [
        "# function reports the Fibonacci series for n+3 numbers\n",
        "\n",
        "def fib(n):\n",
        "  vec = [0,1,1]\n",
        "  for i in range(n):\n",
        "    vec.append(sum(vec[-2:]))\n",
        "  print(vec)"
      ],
      "metadata": {
        "id": "-7Imh5qE-pb4"
      },
      "execution_count": 4,
      "outputs": []
    },
    {
      "cell_type": "code",
      "source": [
        "fib(8)"
      ],
      "metadata": {
        "colab": {
          "base_uri": "https://localhost:8080/"
        },
        "id": "RT6HNjtuEwjl",
        "outputId": "b0a7e8c4-7ed2-461d-d186-9d82997017da"
      },
      "execution_count": 5,
      "outputs": [
        {
          "output_type": "stream",
          "name": "stdout",
          "text": [
            "[0, 1, 1, 2, 3, 5, 8, 13, 21, 34, 55]\n"
          ]
        }
      ]
    },
    {
      "cell_type": "code",
      "source": [
        ""
      ],
      "metadata": {
        "id": "1thnUY10E4h9"
      },
      "execution_count": null,
      "outputs": []
    }
  ]
}