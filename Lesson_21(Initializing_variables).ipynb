{
  "nbformat": 4,
  "nbformat_minor": 0,
  "metadata": {
    "colab": {
      "name": "Lesson_21(Initializing variables).ipynb",
      "provenance": [],
      "authorship_tag": "ABX9TyOEqSowp1pXST5IMoI1HIvU",
      "include_colab_link": true
    },
    "kernelspec": {
      "name": "python3",
      "display_name": "Python 3"
    },
    "language_info": {
      "name": "python"
    }
  },
  "cells": [
    {
      "cell_type": "markdown",
      "metadata": {
        "id": "view-in-github",
        "colab_type": "text"
      },
      "source": [
        "<a href=\"https://colab.research.google.com/github/sowang2022/Flow_Control/blob/main/Lesson_21(Initializing_variables).ipynb\" target=\"_parent\"><img src=\"https://colab.research.google.com/assets/colab-badge.svg\" alt=\"Open In Colab\"/></a>"
      ]
    },
    {
      "cell_type": "code",
      "execution_count": null,
      "metadata": {
        "id": "7I3f5xZgsHMn"
      },
      "outputs": [],
      "source": [
        "for i in range(10):\n",
        "  r[i] = i**2\n",
        "\n",
        "print(r)"
      ]
    },
    {
      "cell_type": "code",
      "source": [
        "import numpy as np\n",
        "\n",
        "n = 20\n",
        "\n",
        "r = np.zeros(n)\n",
        "for i in range(n):\n",
        "  r[i] = i**2\n",
        "\n",
        "print(r)"
      ],
      "metadata": {
        "colab": {
          "base_uri": "https://localhost:8080/"
        },
        "id": "EfUMc313tGXY",
        "outputId": "27ec3887-dcee-4848-f2fd-11b4a77d6ff7"
      },
      "execution_count": 9,
      "outputs": [
        {
          "output_type": "stream",
          "name": "stdout",
          "text": [
            "[  0.   1.   4.   9.  16.  25.  36.  49.  64.  81. 100. 121. 144. 169.\n",
            " 196. 225. 256. 289. 324. 361.]\n"
          ]
        }
      ]
    },
    {
      "cell_type": "code",
      "source": [
        "r = []\n",
        "\n",
        "for i in range(n):\n",
        "  r.append(i**2)\n",
        "print(r)"
      ],
      "metadata": {
        "colab": {
          "base_uri": "https://localhost:8080/"
        },
        "id": "o93y43ZvtjcE",
        "outputId": "3490d85c-3988-4323-c8fc-9f110854651c"
      },
      "execution_count": 15,
      "outputs": [
        {
          "output_type": "stream",
          "name": "stdout",
          "text": [
            "[0, 1, 4, 9, 16, 25, 36, 49, 64, 81, 100, 121, 144, 169, 196, 225, 256, 289, 324, 361]\n"
          ]
        }
      ]
    },
    {
      "cell_type": "code",
      "source": [
        "r = np.array([])\n",
        "\n",
        "\n",
        "for i in range(n):\n",
        "  r = np.append(r,i**2)\n",
        "print(r)"
      ],
      "metadata": {
        "colab": {
          "base_uri": "https://localhost:8080/"
        },
        "id": "jMAmNwh0uywa",
        "outputId": "fc9b1219-4c39-4d1d-e3f0-1a096ae7bb6a"
      },
      "execution_count": 17,
      "outputs": [
        {
          "output_type": "stream",
          "name": "stdout",
          "text": [
            "[  0.   1.   4.   9.  16.  25.  36.  49.  64.  81. 100. 121. 144. 169.\n",
            " 196. 225. 256. 289. 324. 361.]\n"
          ]
        }
      ]
    },
    {
      "cell_type": "code",
      "source": [
        "r = np.zeros((4,5))\n",
        "#r[4,7] = 17\n",
        "r"
      ],
      "metadata": {
        "colab": {
          "base_uri": "https://localhost:8080/"
        },
        "id": "z1FM4Z02vJR0",
        "outputId": "da3f1b1b-d1f2-4062-b5a9-f6cad574f057"
      },
      "execution_count": 21,
      "outputs": [
        {
          "output_type": "execute_result",
          "data": {
            "text/plain": [
              "array([[0., 0., 0., 0., 0.],\n",
              "       [0., 0., 0., 0., 0.],\n",
              "       [0., 0., 0., 0., 0.],\n",
              "       [0., 0., 0., 0., 0.]])"
            ]
          },
          "metadata": {},
          "execution_count": 21
        }
      ]
    }
  ]
}