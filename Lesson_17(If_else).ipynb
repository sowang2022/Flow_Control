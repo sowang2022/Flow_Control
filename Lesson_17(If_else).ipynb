{
  "nbformat": 4,
  "nbformat_minor": 0,
  "metadata": {
    "colab": {
      "name": "Lesson_17(If-else).ipynb",
      "provenance": [],
      "authorship_tag": "ABX9TyM1u9J7tvUIM9s9KyyaictA",
      "include_colab_link": true
    },
    "kernelspec": {
      "name": "python3",
      "display_name": "Python 3"
    },
    "language_info": {
      "name": "python"
    }
  },
  "cells": [
    {
      "cell_type": "markdown",
      "metadata": {
        "id": "view-in-github",
        "colab_type": "text"
      },
      "source": [
        "<a href=\"https://colab.research.google.com/github/sowang2022/Flow_Control/blob/main/Lesson_17(If_else).ipynb\" target=\"_parent\"><img src=\"https://colab.research.google.com/assets/colab-badge.svg\" alt=\"Open In Colab\"/></a>"
      ]
    },
    {
      "cell_type": "code",
      "execution_count": null,
      "metadata": {
        "colab": {
          "base_uri": "https://localhost:8080/"
        },
        "id": "gP8IFr8HsXZ3",
        "outputId": "fb671a57-8522-4617-b5c9-56c8710274d8"
      },
      "outputs": [
        {
          "output_type": "stream",
          "name": "stdout",
          "text": [
            "True is true\n"
          ]
        }
      ],
      "source": [
        "#if-else\n",
        "\n",
        "if True:\n",
        "  print('True is true')"
      ]
    },
    {
      "cell_type": "code",
      "source": [
        "if False:\n",
        "  print('False is true')"
      ],
      "metadata": {
        "id": "-Sr3HymXuSfJ"
      },
      "execution_count": null,
      "outputs": []
    },
    {
      "cell_type": "code",
      "source": [
        "if 4==4:\n",
        "  print('hello ')"
      ],
      "metadata": {
        "colab": {
          "base_uri": "https://localhost:8080/"
        },
        "id": "1k69ek_GuYnT",
        "outputId": "30bd178a-e728-4add-bce1-efa1fc7d4416"
      },
      "execution_count": null,
      "outputs": [
        {
          "output_type": "stream",
          "name": "stdout",
          "text": [
            "hello \n"
          ]
        }
      ]
    },
    {
      "cell_type": "code",
      "source": [
        "import numpy as np\n",
        "\n",
        "randnum = np.random.randn()\n",
        "\n",
        "if randnum>0:\n",
        "  print(randnum)\n",
        "  x = 3\n",
        "  print(x)\n",
        "\n",
        "print('here')"
      ],
      "metadata": {
        "colab": {
          "base_uri": "https://localhost:8080/"
        },
        "id": "yQgHwo7eucRA",
        "outputId": "b710a0e9-2424-4b54-b7b0-1a9e8222f07a"
      },
      "execution_count": null,
      "outputs": [
        {
          "output_type": "stream",
          "name": "stdout",
          "text": [
            "0.44994782262437993\n",
            "3\n",
            "here\n"
          ]
        }
      ]
    },
    {
      "cell_type": "code",
      "source": [
        "r = np.random.randn()\n",
        "\n",
        "if r>0:\n",
        "  print(str(r) + ' is positve')\n",
        "else:\n",
        "  print(str(r) + ' is negitive')"
      ],
      "metadata": {
        "id": "m3UGdQSXu1xo",
        "colab": {
          "base_uri": "https://localhost:8080/"
        },
        "outputId": "2910cff5-95ec-4ac9-a335-09fe4f6938c2"
      },
      "execution_count": null,
      "outputs": [
        {
          "output_type": "stream",
          "name": "stdout",
          "text": [
            "0.21465658995282985 is positve\n"
          ]
        }
      ]
    },
    {
      "cell_type": "code",
      "source": [
        "caketype = 'fruoiugit'\n",
        "\n",
        "if caketype=='carrot' :\n",
        "  print('Total yumminess!')\n",
        "elif caketype=='chocolate':\n",
        "  print('Still quite good')\n",
        "elif caketype=='fruit':\n",
        "  print('Healthy??')\n",
        "else:\n",
        "  print('Cake type is not recognized')"
      ],
      "metadata": {
        "colab": {
          "base_uri": "https://localhost:8080/"
        },
        "id": "pqXEStCQE4oB",
        "outputId": "125d1d04-9ea4-4226-9f93-89e1a96a3cb0"
      },
      "execution_count": null,
      "outputs": [
        {
          "output_type": "stream",
          "name": "stdout",
          "text": [
            "Cake type is not recognized\n"
          ]
        }
      ]
    },
    {
      "cell_type": "code",
      "source": [
        "#one line if statements\n",
        "caketype = 'carrot'\n",
        "\n",
        "#if caketype[0].lower()=='c': print('Probably good flavor.')\n",
        "\n",
        "print('Proably carrot cake') if caketype[0]=='c' else print('Or not.')"
      ],
      "metadata": {
        "colab": {
          "base_uri": "https://localhost:8080/"
        },
        "id": "qs3AQKN3FEF3",
        "outputId": "f36dd041-fe03-443c-89bc-c8a4e2be204e"
      },
      "execution_count": null,
      "outputs": [
        {
          "output_type": "stream",
          "name": "stdout",
          "text": [
            "Proably carrot cake\n"
          ]
        }
      ]
    },
    {
      "cell_type": "code",
      "source": [
        "if 1<3 or 4==4:\n",
        "  print('at least one statement is true')"
      ],
      "metadata": {
        "colab": {
          "base_uri": "https://localhost:8080/"
        },
        "id": "BrsZQzBLIYAo",
        "outputId": "87b2fa50-3050-4df6-c5ee-792dc5b16bf7"
      },
      "execution_count": null,
      "outputs": [
        {
          "output_type": "stream",
          "name": "stdout",
          "text": [
            "at least one statement is true\n"
          ]
        }
      ]
    },
    {
      "cell_type": "code",
      "source": [
        "def dotpro(x,y):\n",
        "  if not (isinstance(x,np.ndarray) and isinstance(y,np.ndarray)):\n",
        "    raise Exception('Must be numpy array ')\n",
        "\n",
        "  if not len(x)==len(y):\n",
        "    raise Exception('Must be the same length')\n",
        "\n",
        "  return sum(x*y)\n"
      ],
      "metadata": {
        "id": "FPKPvZllJcSG"
      },
      "execution_count": null,
      "outputs": []
    },
    {
      "cell_type": "code",
      "source": [
        "x = np.array([3,4,5])\n",
        "y = np.array([2,3,1])\n",
        "\n",
        "dotpro(x,y)\n",
        "np.dot(x,y)"
      ],
      "metadata": {
        "colab": {
          "base_uri": "https://localhost:8080/"
        },
        "id": "AXAtFjghKVBM",
        "outputId": "83ba3d29-503a-42ce-82d6-e6b37fbb5d1d"
      },
      "execution_count": null,
      "outputs": [
        {
          "output_type": "execute_result",
          "data": {
            "text/plain": [
              "23"
            ]
          },
          "metadata": {},
          "execution_count": 55
        }
      ]
    },
    {
      "cell_type": "code",
      "source": [
        ""
      ],
      "metadata": {
        "id": "TDuwM3RULt4G"
      },
      "execution_count": null,
      "outputs": []
    }
  ]
}