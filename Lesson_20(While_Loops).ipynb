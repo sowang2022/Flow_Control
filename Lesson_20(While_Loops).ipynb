{
  "nbformat": 4,
  "nbformat_minor": 0,
  "metadata": {
    "colab": {
      "name": "Lesson_20(While Loops).ipynb",
      "provenance": [],
      "authorship_tag": "ABX9TyNIutw/GWSRCAFNNtPFs7jc",
      "include_colab_link": true
    },
    "kernelspec": {
      "name": "python3",
      "display_name": "Python 3"
    },
    "language_info": {
      "name": "python"
    }
  },
  "cells": [
    {
      "cell_type": "markdown",
      "metadata": {
        "id": "view-in-github",
        "colab_type": "text"
      },
      "source": [
        "<a href=\"https://colab.research.google.com/github/sowang2022/Flow_Control/blob/main/Lesson_20(While_Loops).ipynb\" target=\"_parent\"><img src=\"https://colab.research.google.com/assets/colab-badge.svg\" alt=\"Open In Colab\"/></a>"
      ]
    },
    {
      "cell_type": "code",
      "execution_count": 1,
      "metadata": {
        "colab": {
          "base_uri": "https://localhost:8080/"
        },
        "id": "EVDsm0mLHPrS",
        "outputId": "a60cc5c5-3fee-455e-eca3-d37217749f99"
      },
      "outputs": [
        {
          "output_type": "stream",
          "name": "stdout",
          "text": [
            "0\n",
            "1\n",
            "2\n",
            "3\n",
            "4\n",
            "5\n",
            "6\n",
            "7\n"
          ]
        }
      ],
      "source": [
        "toggle = True\n",
        "i = 0\n",
        "\n",
        "while toggle:\n",
        "  print(i)\n",
        "  i += 1\n",
        "\n",
        "  if i==8:\n",
        "    toggle=False"
      ]
    },
    {
      "cell_type": "code",
      "source": [
        "toggle = True\n",
        "i = 0\n",
        "\n",
        "while toggle:\n",
        "  print(i)\n",
        "  if i==8:\n",
        "    i += 1\n",
        "    toggle=False"
      ],
      "metadata": {
        "id": "naF5SGgFIEZX"
      },
      "execution_count": null,
      "outputs": []
    },
    {
      "cell_type": "code",
      "source": [
        "i  = 0\n",
        "while True:\n",
        "  print(i)\n",
        "  i += 1\n",
        "  if i==8:\n",
        "    break"
      ],
      "metadata": {
        "colab": {
          "base_uri": "https://localhost:8080/"
        },
        "id": "F4x4mlvxIa7B",
        "outputId": "adc51ffd-dce1-4163-8ca7-b855f93a2119"
      },
      "execution_count": null,
      "outputs": [
        {
          "output_type": "stream",
          "name": "stdout",
          "text": [
            "0\n",
            "1\n",
            "2\n",
            "3\n",
            "4\n",
            "5\n",
            "6\n",
            "7\n"
          ]
        }
      ]
    },
    {
      "cell_type": "code",
      "source": [
        "i = 0\n",
        "while i<8:\n",
        "  print(i)\n",
        "  i += 1"
      ],
      "metadata": {
        "colab": {
          "base_uri": "https://localhost:8080/"
        },
        "id": "LoUZhmZOInHC",
        "outputId": "791bba49-abd3-4487-f337-e49df53799aa"
      },
      "execution_count": null,
      "outputs": [
        {
          "output_type": "stream",
          "name": "stdout",
          "text": [
            "0\n",
            "1\n",
            "2\n",
            "3\n",
            "4\n",
            "5\n",
            "6\n",
            "7\n"
          ]
        }
      ]
    },
    {
      "cell_type": "code",
      "source": [
        "# for loop: when you know how long the code is going to take\n",
        "#while loop: when you don't know how long the code is\n",
        "\n"
      ],
      "metadata": {
        "id": "RK4ydy0yJCz1"
      },
      "execution_count": 3,
      "outputs": []
    },
    {
      "cell_type": "code",
      "source": [
        "# make a poisson like counter\n",
        "\n",
        "# parameter lambda. positive number(10)\n",
        "# start at 1, multiply by random number uniform"
      ],
      "metadata": {
        "id": "Qzhn9-UqqSXs"
      },
      "execution_count": 4,
      "outputs": []
    },
    {
      "cell_type": "code",
      "source": [
        "import numpy as np\n",
        "\n",
        "def poissonCounter(lam):\n",
        "  counter,currval = 0,1\n",
        "  target = np.exp(-lam)\n",
        "\n",
        "  while currval>target:\n",
        "    counter += 1\n",
        "    currval *= np.random.rand()\n",
        "\n",
        "    return counter"
      ],
      "metadata": {
        "id": "k1JUhSeFqsYX"
      },
      "execution_count": 6,
      "outputs": []
    },
    {
      "cell_type": "code",
      "source": [
        "poissonCounter(10)\n"
      ],
      "metadata": {
        "colab": {
          "base_uri": "https://localhost:8080/"
        },
        "id": "GB_cy8_Urs_s",
        "outputId": "1f2f2eff-e34c-414e-ec11-9c27210f3142"
      },
      "execution_count": 16,
      "outputs": [
        {
          "output_type": "execute_result",
          "data": {
            "text/plain": [
              "1"
            ]
          },
          "metadata": {},
          "execution_count": 16
        }
      ]
    }
  ]
}