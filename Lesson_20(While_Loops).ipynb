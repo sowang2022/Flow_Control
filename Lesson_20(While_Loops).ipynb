{
  "nbformat": 4,
  "nbformat_minor": 0,
  "metadata": {
    "colab": {
      "name": "Lesson_20(While Loops).ipynb",
      "provenance": [],
      "authorship_tag": "ABX9TyPmEq7+pUXBa0Mp/4jBptfZ",
      "include_colab_link": true
    },
    "kernelspec": {
      "name": "python3",
      "display_name": "Python 3"
    },
    "language_info": {
      "name": "python"
    }
  },
  "cells": [
    {
      "cell_type": "markdown",
      "metadata": {
        "id": "view-in-github",
        "colab_type": "text"
      },
      "source": [
        "<a href=\"https://colab.research.google.com/github/sowang2022/Flow_Control/blob/main/Lesson_20(While_Loops).ipynb\" target=\"_parent\"><img src=\"https://colab.research.google.com/assets/colab-badge.svg\" alt=\"Open In Colab\"/></a>"
      ]
    },
    {
      "cell_type": "code",
      "execution_count": 2,
      "metadata": {
        "colab": {
          "base_uri": "https://localhost:8080/"
        },
        "id": "EVDsm0mLHPrS",
        "outputId": "aa744856-34d4-4313-ab5b-5503401bbe50"
      },
      "outputs": [
        {
          "output_type": "stream",
          "name": "stdout",
          "text": [
            "0\n",
            "1\n",
            "2\n",
            "3\n",
            "4\n",
            "5\n",
            "6\n",
            "7\n"
          ]
        }
      ],
      "source": [
        "toggle = True\n",
        "i = 0\n",
        "\n",
        "while toggle:\n",
        "  print(i)\n",
        "  i += 1\n",
        "\n",
        "  if i==8:\n",
        "    toggle=False"
      ]
    },
    {
      "cell_type": "code",
      "source": [
        "toggle = True\n",
        "i = 0\n",
        "\n",
        "while toggle:\n",
        "  print(i)\n",
        "  if i==8:\n",
        "    i += 1\n",
        "    toggle=False"
      ],
      "metadata": {
        "id": "naF5SGgFIEZX"
      },
      "execution_count": null,
      "outputs": []
    },
    {
      "cell_type": "code",
      "source": [
        "i  = 0\n",
        "while True:\n",
        "  print(i)\n",
        "  i += 1\n",
        "  if i==8:\n",
        "    break"
      ],
      "metadata": {
        "colab": {
          "base_uri": "https://localhost:8080/"
        },
        "id": "F4x4mlvxIa7B",
        "outputId": "adc51ffd-dce1-4163-8ca7-b855f93a2119"
      },
      "execution_count": 6,
      "outputs": [
        {
          "output_type": "stream",
          "name": "stdout",
          "text": [
            "0\n",
            "1\n",
            "2\n",
            "3\n",
            "4\n",
            "5\n",
            "6\n",
            "7\n"
          ]
        }
      ]
    },
    {
      "cell_type": "code",
      "source": [
        "i = 0\n",
        "while i<8:\n",
        "  print(i)\n",
        "  i += 1"
      ],
      "metadata": {
        "colab": {
          "base_uri": "https://localhost:8080/"
        },
        "id": "LoUZhmZOInHC",
        "outputId": "791bba49-abd3-4487-f337-e49df53799aa"
      },
      "execution_count": 8,
      "outputs": [
        {
          "output_type": "stream",
          "name": "stdout",
          "text": [
            "0\n",
            "1\n",
            "2\n",
            "3\n",
            "4\n",
            "5\n",
            "6\n",
            "7\n"
          ]
        }
      ]
    },
    {
      "cell_type": "code",
      "source": [
        "# for loop: when you know how long the code is going to take\n",
        "#while loop: when you don't know how long the code is\n",
        "\n"
      ],
      "metadata": {
        "id": "RK4ydy0yJCz1"
      },
      "execution_count": null,
      "outputs": []
    }
  ]
}